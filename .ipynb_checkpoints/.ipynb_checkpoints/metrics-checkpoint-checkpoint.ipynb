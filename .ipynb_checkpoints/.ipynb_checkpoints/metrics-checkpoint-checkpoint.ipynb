{
 "cells": [
  {
   "cell_type": "code",
   "execution_count": 74,
   "metadata": {},
   "outputs": [],
   "source": [
    "import numpy as np\n",
    "import pandas as pd\n",
    "import math\n",
    "from util import hash_tree\n",
    "from sklearn.preprocessing import scale"
   ]
  },
  {
   "cell_type": "markdown",
   "metadata": {},
   "source": [
    "### 所有节点的信息"
   ]
  },
  {
   "cell_type": "code",
   "execution_count": 75,
   "metadata": {},
   "outputs": [],
   "source": [
    "from htrace import Parse\n",
    "prefix = \"/Users/yangs/Desktop/htrace/wordcount/\""
   ]
  },
  {
   "cell_type": "code",
   "execution_count": 76,
   "metadata": {},
   "outputs": [
    {
     "name": "stderr",
     "output_type": "stream",
     "text": [
      "21it [00:02,  7.24it/s]\n"
     ]
    }
   ],
   "source": [
    "always = Parse(prefix+\"1.out\", True)"
   ]
  },
  {
   "cell_type": "code",
   "execution_count": 77,
   "metadata": {},
   "outputs": [
    {
     "name": "stderr",
     "output_type": "stream",
     "text": [
      "21it [00:00, 161.75it/s]\n"
     ]
    }
   ],
   "source": [
    "limit = Parse(prefix+\"l.out\", True)"
   ]
  },
  {
   "cell_type": "code",
   "execution_count": 78,
   "metadata": {},
   "outputs": [
    {
     "name": "stderr",
     "output_type": "stream",
     "text": [
      "21it [00:00, 30.34it/s]\n"
     ]
    }
   ],
   "source": [
    "p = Parse(prefix+'0.1.out', True)"
   ]
  },
  {
   "cell_type": "markdown",
   "metadata": {},
   "source": [
    "### 计算欧式距离\n",
    "函数特征值 `<均值(mean), 标准差(std)>`\n",
    "**缺失函数的话 影响很大** <br>\n",
    "要把只调用一次的函数剔除掉 因为没啥影响(?) 记得要获取所有节点的信息"
   ]
  },
  {
   "cell_type": "code",
   "execution_count": 79,
   "metadata": {},
   "outputs": [],
   "source": [
    "# def eu_dist(src: Parse, s1, s2):\n",
    "# #     print(f\"src: {len(src.names)} com: {len(com.names)}\")\n",
    "#     res = 0.0\n",
    "#     src_df = pd.read_csv(prefix+s1+'.out.csv').drop([0,4,6,3,7,5])\n",
    "#     com_df = pd.read_csv(prefix+s2+'.out.csv').drop([0,4,6,3,7,5])\n",
    "#     for name in src.names:\n",
    "# #         if src.func_feature[name]['count'] < 10:\n",
    "# #             continue\n",
    "#         v1 = np.array(src_df[name])\n",
    "#         if name in com_df.columns:\n",
    "#             v2 = np.array(com_df[name])\n",
    "#         else:\n",
    "#             v2 = np.array([0]*2)\n",
    "#         res += np.linalg.norm(v1 - v2)\n",
    "#     return res"
   ]
  },
  {
   "cell_type": "code",
   "execution_count": 88,
   "metadata": {},
   "outputs": [],
   "source": [
    "def eu_dist(src: Parse, s1, s2):\n",
    "    res = 0.0\n",
    "    src_df = pd.read_csv(prefix+s1+'.out.csv').drop([0,4,6,3,7,5])\n",
    "    com_df = pd.read_csv(prefix+s2+'.out.csv').drop([0,4,6,3,7,5])\n",
    "    v1, v2 = [], []\n",
    "    for name in src.names:\n",
    "        v1.append(src_df[name][1])\n",
    "        v1.append(src_df[name][2])\n",
    "        if name in com_df.columns:\n",
    "            v2.append(com_df[name][1])\n",
    "            v2.append(com_df[name][2])\n",
    "        else:\n",
    "            v2.extend([0,0])        \n",
    "    v1, v2 = np.array(v1), np.array(v2)\n",
    "    v1, v2 = scale(v1), scale(v2)\n",
    "    res = np.linalg.norm(v1 - v2)\n",
    "    return res"
   ]
  },
  {
   "cell_type": "code",
   "execution_count": 89,
   "metadata": {},
   "outputs": [
    {
     "data": {
      "text/plain": [
       "12.427014645481878"
      ]
     },
     "execution_count": 89,
     "metadata": {},
     "output_type": "execute_result"
    }
   ],
   "source": [
    "eu_dist(always, '1', '0.1')"
   ]
  },
  {
   "cell_type": "markdown",
   "metadata": {},
   "source": [
    "### 计算信息熵"
   ]
  },
  {
   "cell_type": "code",
   "execution_count": 15,
   "metadata": {},
   "outputs": [],
   "source": [
    "def entropy(src: Parse,file):\n",
    "    t = pd.read_csv(prefix+file+'.out.csv')\n",
    "    proba = np.array([0]*len(src.names))\n",
    "    count = 0\n",
    "    for idx, name in enumerate(src.names):\n",
    "        if name in t.columns:\n",
    "            proba[idx] = t[name][0]\n",
    "            count += proba[idx]\n",
    "    print(count)\n",
    "    proba = proba/count\n",
    "    res = 0.0\n",
    "    for p in proba:\n",
    "        if p:\n",
    "            res -= p * math.log2(p)\n",
    "    return res"
   ]
  },
  {
   "cell_type": "code",
   "execution_count": 22,
   "metadata": {},
   "outputs": [
    {
     "name": "stdout",
     "output_type": "stream",
     "text": [
      "256606\n"
     ]
    },
    {
     "data": {
      "text/plain": [
       "1.0676299456003995"
      ]
     },
     "execution_count": 22,
     "metadata": {},
     "output_type": "execute_result"
    }
   ],
   "source": [
    "entropy(always, '1')"
   ]
  },
  {
   "cell_type": "markdown",
   "metadata": {},
   "source": [
    "### 调用树种类"
   ]
  },
  {
   "cell_type": "code",
   "execution_count": 9,
   "metadata": {},
   "outputs": [
    {
     "name": "stderr",
     "output_type": "stream",
     "text": [
      "100%|██████████| 127996/127996 [00:00<00:00, 178287.73it/s]\n"
     ]
    },
    {
     "data": {
      "text/plain": [
       "14"
      ]
     },
     "execution_count": 9,
     "metadata": {},
     "output_type": "execute_result"
    }
   ],
   "source": [
    "hash_tree(always)"
   ]
  },
  {
   "cell_type": "code",
   "execution_count": null,
   "metadata": {},
   "outputs": [],
   "source": []
  },
  {
   "cell_type": "code",
   "execution_count": null,
   "metadata": {},
   "outputs": [],
   "source": []
  },
  {
   "cell_type": "code",
   "execution_count": null,
   "metadata": {},
   "outputs": [],
   "source": []
  },
  {
   "cell_type": "code",
   "execution_count": null,
   "metadata": {},
   "outputs": [],
   "source": []
  }
 ],
 "metadata": {
  "kernelspec": {
   "display_name": "Python 3",
   "language": "python",
   "name": "python3"
  },
  "language_info": {
   "codemirror_mode": {
    "name": "ipython",
    "version": 3
   },
   "file_extension": ".py",
   "mimetype": "text/x-python",
   "name": "python",
   "nbconvert_exporter": "python",
   "pygments_lexer": "ipython3",
   "version": "3.7.0"
  }
 },
 "nbformat": 4,
 "nbformat_minor": 2
}
