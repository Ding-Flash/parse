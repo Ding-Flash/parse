{
 "cells": [
  {
   "cell_type": "code",
   "execution_count": 1,
   "metadata": {},
   "outputs": [],
   "source": [
    "from IPython.core.interactiveshell import InteractiveShell\n",
    "InteractiveShell.ast_node_interactivity = \"all\"\n",
    "from htrace import Parse\n",
    "import seaborn as sns\n",
    "import numpy as np\n",
    "import pandas as pd\n",
    "import matplotlib.pyplot as plt\n",
    "from sklearn.preprocessing import scale\n",
    "%matplotlib inline\n",
    "\n",
    "%config InlineBackend.figure_formats = ['svg']\n",
    "sns.set_style(\"whitegrid\")"
   ]
  },
  {
   "cell_type": "code",
   "execution_count": 2,
   "metadata": {},
   "outputs": [],
   "source": [
    "data_path={\n",
    "#     'dfsioe_r': 'data/dfsioe_r/',\n",
    "#     'dfsioe_w': 'data/dfsioe_w/',\n",
    "#     'kmeans': 'data/kmeans/',\n",
    "    'pagerank': 'data/pagerank/',\n",
    "#     'terasort': 'data/terasort/',\n",
    "#     'wordcount': 'data/wordcount/'\n",
    "}\n",
    "samplers = [\n",
    "#             'a', \n",
    "            'p0.1', \n",
    "            'l', \n",
    "            't'\n",
    "]"
   ]
  },
  {
   "cell_type": "code",
   "execution_count": 3,
   "metadata": {},
   "outputs": [],
   "source": [
    "def clean_src_csv(path):\n",
    "    df = pd.read_csv(path+'/1.csv')\n",
    "    df.index = df['Unnamed: 0']\n",
    "    df.drop(['Unnamed: 0'],axis=1, inplace=True)\n",
    "    df = df.T\n",
    "    df =df.drop(['25%','50%','min','75%','max'], axis=1)\n",
    "    df.columns = list(map(lambda x: path.split('/')[2]+'-'+x,['count','mean','std']))\n",
    "    return df"
   ]
  },
  {
   "cell_type": "code",
   "execution_count": 4,
   "metadata": {},
   "outputs": [],
   "source": [
    "def bench_func_display(bench):\n",
    "    res = []\n",
    "    for sampler in samplers:\n",
    "        res.append(clean_src_csv(bench+sampler))\n",
    "    c = pd.concat(res, axis=1, sort=True)\n",
    "#     c.columns = zh_samplers\n",
    "#     c.insert(0, 'time', c['a-count']*c['a-mean'])\n",
    "    return c[\n",
    "# (c['a-count']>100)\n",
    "#              &(c['l-std']>c['l-mean']+1)\n",
    "             (c['p0.1-count']>c['l-count'])\n",
    "    ]"
   ]
  },
  {
   "cell_type": "code",
   "execution_count": 5,
   "metadata": {},
   "outputs": [
    {
     "name": "stdout",
     "output_type": "stream",
     "text": [
      "pagerank\n"
     ]
    }
   ],
   "source": [
    "for name, bench in data_path.items():\n",
    "    print(name)\n",
    "    bench_func_display(bench).to_csv('pagerank_less.csv') "
   ]
  },
  {
   "cell_type": "code",
   "execution_count": 29,
   "metadata": {},
   "outputs": [
    {
     "data": {
      "text/html": [
       "<div>\n",
       "<style scoped>\n",
       "    .dataframe tbody tr th:only-of-type {\n",
       "        vertical-align: middle;\n",
       "    }\n",
       "\n",
       "    .dataframe tbody tr th {\n",
       "        vertical-align: top;\n",
       "    }\n",
       "\n",
       "    .dataframe thead th {\n",
       "        text-align: right;\n",
       "    }\n",
       "</style>\n",
       "<table border=\"1\" class=\"dataframe\">\n",
       "  <thead>\n",
       "    <tr style=\"text-align: right;\">\n",
       "      <th></th>\n",
       "      <th>a-count</th>\n",
       "      <th>a-mean</th>\n",
       "      <th>a-std</th>\n",
       "      <th>a-75%</th>\n",
       "      <th>a-max</th>\n",
       "      <th>p0.1-count</th>\n",
       "      <th>p0.1-mean</th>\n",
       "      <th>p0.1-std</th>\n",
       "      <th>p0.1-75%</th>\n",
       "      <th>p0.1-max</th>\n",
       "      <th>l-count</th>\n",
       "      <th>l-mean</th>\n",
       "      <th>l-std</th>\n",
       "      <th>l-75%</th>\n",
       "      <th>l-max</th>\n",
       "      <th>t-count</th>\n",
       "      <th>t-mean</th>\n",
       "      <th>t-std</th>\n",
       "      <th>t-75%</th>\n",
       "      <th>t-max</th>\n",
       "    </tr>\n",
       "  </thead>\n",
       "  <tbody>\n",
       "    <tr>\n",
       "      <th>BlockReaderRemote2#readNextPacket</th>\n",
       "      <td>126.0</td>\n",
       "      <td>0.452381</td>\n",
       "      <td>1.070380</td>\n",
       "      <td>1.0</td>\n",
       "      <td>11.0</td>\n",
       "      <td>8.0</td>\n",
       "      <td>0.625000</td>\n",
       "      <td>0.744024</td>\n",
       "      <td>1.0</td>\n",
       "      <td>2.0</td>\n",
       "      <td>5.0</td>\n",
       "      <td>2.800000</td>\n",
       "      <td>5.167204</td>\n",
       "      <td>1.0</td>\n",
       "      <td>12.0</td>\n",
       "      <td>2.0</td>\n",
       "      <td>6.500000</td>\n",
       "      <td>7.778175</td>\n",
       "      <td>9.25</td>\n",
       "      <td>12.0</td>\n",
       "    </tr>\n",
       "    <tr>\n",
       "      <th>DFSInputStream#byteArrayRead</th>\n",
       "      <td>126209.0</td>\n",
       "      <td>0.016322</td>\n",
       "      <td>0.312568</td>\n",
       "      <td>0.0</td>\n",
       "      <td>99.0</td>\n",
       "      <td>12569.0</td>\n",
       "      <td>0.030472</td>\n",
       "      <td>0.387722</td>\n",
       "      <td>0.0</td>\n",
       "      <td>35.0</td>\n",
       "      <td>4457.0</td>\n",
       "      <td>0.083689</td>\n",
       "      <td>1.575151</td>\n",
       "      <td>0.0</td>\n",
       "      <td>104.0</td>\n",
       "      <td>1278.0</td>\n",
       "      <td>0.151017</td>\n",
       "      <td>2.779533</td>\n",
       "      <td>0.00</td>\n",
       "      <td>99.0</td>\n",
       "    </tr>\n",
       "    <tr>\n",
       "      <th>DFSInputStream#readWithStrategy</th>\n",
       "      <td>126209.0</td>\n",
       "      <td>0.002908</td>\n",
       "      <td>0.282468</td>\n",
       "      <td>0.0</td>\n",
       "      <td>99.0</td>\n",
       "      <td>12569.0</td>\n",
       "      <td>0.003262</td>\n",
       "      <td>0.058402</td>\n",
       "      <td>0.0</td>\n",
       "      <td>2.0</td>\n",
       "      <td>4457.0</td>\n",
       "      <td>0.034777</td>\n",
       "      <td>1.561401</td>\n",
       "      <td>0.0</td>\n",
       "      <td>104.0</td>\n",
       "      <td>1278.0</td>\n",
       "      <td>0.090767</td>\n",
       "      <td>2.743465</td>\n",
       "      <td>0.00</td>\n",
       "      <td>98.0</td>\n",
       "    </tr>\n",
       "  </tbody>\n",
       "</table>\n",
       "</div>"
      ],
      "text/plain": [
       "                                    a-count    a-mean     a-std  a-75%  a-max  \\\n",
       "BlockReaderRemote2#readNextPacket     126.0  0.452381  1.070380    1.0   11.0   \n",
       "DFSInputStream#byteArrayRead       126209.0  0.016322  0.312568    0.0   99.0   \n",
       "DFSInputStream#readWithStrategy    126209.0  0.002908  0.282468    0.0   99.0   \n",
       "\n",
       "                                   p0.1-count  p0.1-mean  p0.1-std  p0.1-75%  \\\n",
       "BlockReaderRemote2#readNextPacket         8.0   0.625000  0.744024       1.0   \n",
       "DFSInputStream#byteArrayRead          12569.0   0.030472  0.387722       0.0   \n",
       "DFSInputStream#readWithStrategy       12569.0   0.003262  0.058402       0.0   \n",
       "\n",
       "                                   p0.1-max  l-count    l-mean     l-std  \\\n",
       "BlockReaderRemote2#readNextPacket       2.0      5.0  2.800000  5.167204   \n",
       "DFSInputStream#byteArrayRead           35.0   4457.0  0.083689  1.575151   \n",
       "DFSInputStream#readWithStrategy         2.0   4457.0  0.034777  1.561401   \n",
       "\n",
       "                                   l-75%  l-max  t-count    t-mean     t-std  \\\n",
       "BlockReaderRemote2#readNextPacket    1.0   12.0      2.0  6.500000  7.778175   \n",
       "DFSInputStream#byteArrayRead         0.0  104.0   1278.0  0.151017  2.779533   \n",
       "DFSInputStream#readWithStrategy      0.0  104.0   1278.0  0.090767  2.743465   \n",
       "\n",
       "                                   t-75%  t-max  \n",
       "BlockReaderRemote2#readNextPacket   9.25   12.0  \n",
       "DFSInputStream#byteArrayRead        0.00   99.0  \n",
       "DFSInputStream#readWithStrategy     0.00   98.0  "
      ]
     },
     "execution_count": 29,
     "metadata": {},
     "output_type": "execute_result"
    }
   ],
   "source": [
    "bench_func_display('data/wordcount/')"
   ]
  },
  {
   "cell_type": "code",
   "execution_count": 72,
   "metadata": {},
   "outputs": [],
   "source": [
    "def eu_dist(df):\n",
    "    va = np.array(df['a-mean'].tolist()+ df['a-std'].tolist())\n",
    "    vp = np.array(df['p0.1-mean'].tolist()+ df['p0.1-std'].tolist())\n",
    "    vl = np.array(df['l-mean'].tolist()+ df['l-std'].tolist())\n",
    "    vt = np.array(df['t-mean'].tolist()+ df['t-std'].tolist())\n",
    "#     print(va)\n",
    "#     print(vp)\n",
    "#     print(vl)\n",
    "#     print(vt)\n",
    "#     va = scale(va)\n",
    "#     vp = scale(vp)\n",
    "#     vl = scale(vl)\n",
    "#     vt = scale(vt)\n",
    "#     print(np.linalg.norm(va-vp))\n",
    "    print(np.linalg.norm(vp-vl))\n",
    "    print(np.linalg.norm(vp-vt))"
   ]
  },
  {
   "cell_type": "code",
   "execution_count": 77,
   "metadata": {},
   "outputs": [
    {
     "name": "stdout",
     "output_type": "stream",
     "text": [
      "0.9330732728881828\n",
      "0.9228636547374144\n"
     ]
    }
   ],
   "source": [
    "eu_dist(bench_func_display('data/pagerank/'))"
   ]
  },
  {
   "cell_type": "code",
   "execution_count": null,
   "metadata": {},
   "outputs": [],
   "source": []
  }
 ],
 "metadata": {
  "kernelspec": {
   "display_name": "Python 3",
   "language": "python",
   "name": "python3"
  },
  "language_info": {
   "codemirror_mode": {
    "name": "ipython",
    "version": 3
   },
   "file_extension": ".py",
   "mimetype": "text/x-python",
   "name": "python",
   "nbconvert_exporter": "python",
   "pygments_lexer": "ipython3",
   "version": "3.7.0"
  }
 },
 "nbformat": 4,
 "nbformat_minor": 2
}
