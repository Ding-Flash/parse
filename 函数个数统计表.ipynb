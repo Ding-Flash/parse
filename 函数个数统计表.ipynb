{
 "cells": [
  {
   "cell_type": "code",
   "execution_count": 2,
   "metadata": {},
   "outputs": [],
   "source": [
    "from IPython.core.interactiveshell import InteractiveShell\n",
    "InteractiveShell.ast_node_interactivity = \"all\"\n",
    "from htrace import Parse\n",
    "import seaborn as sns\n",
    "import numpy as np\n",
    "import pandas as pd\n",
    "import matplotlib.pyplot as plt\n",
    "%matplotlib inline\n",
    "\n",
    "%config InlineBackend.figure_formats = ['svg']\n",
    "sns.set_style(\"whitegrid\")"
   ]
  },
  {
   "cell_type": "code",
   "execution_count": 3,
   "metadata": {},
   "outputs": [],
   "source": [
    "data_path={\n",
    "#     'dfsioe_r': 'data/dfsioe_r/',\n",
    "#     'dfsioe_w': 'data/dfsioe_w/',\n",
    "#     'kmeans': 'data/kmeans/',\n",
    "    'pagerank': 'data/pagerank/',\n",
    "#     'terasort': 'data/terasort/',\n",
    "#     'wordcount': 'data/wordcount/'\n",
    "}\n",
    "samplers = [\n",
    "    'a', \n",
    "            'p0.1',\n",
    "            'l', \n",
    "            't', \n",
    " \n",
    "#             'p0.01'\n",
    "           ]\n",
    "zh_samplers = ['全采样',\n",
    "                              '概率采样(0.1)',\n",
    "               '限制采样',\n",
    "               '令牌桶采样',\n",
    "\n",
    "#                '概率采样(0.01)'\n",
    "              ]"
   ]
  },
  {
   "cell_type": "markdown",
   "metadata": {},
   "source": [
    "## 不同函数的采样个数对比"
   ]
  },
  {
   "cell_type": "code",
   "execution_count": 4,
   "metadata": {},
   "outputs": [],
   "source": [
    "def clean_src_csv(path):\n",
    "    df = pd.read_csv(path+'/1.csv')\n",
    "    df.index = df['Unnamed: 0']\n",
    "    df.drop(['Unnamed: 0'],axis=1, inplace=True)\n",
    "    df = df.T\n",
    "    df.columns = ['count','mean','std','min','25%','50%','75%','max']\n",
    "    return df['count'].to_frame() "
   ]
  },
  {
   "cell_type": "code",
   "execution_count": 5,
   "metadata": {},
   "outputs": [],
   "source": [
    "def bench_func_display(bench):\n",
    "    res = []\n",
    "    for sampler in samplers:\n",
    "        res.append(clean_src_csv(bench+sampler))\n",
    "    c = pd.concat(res, axis=1, sort=True)\n",
    "    c.columns = zh_samplers\n",
    "    return c[(c['全采样']>100)&(c['概率采样(0.1)']>c['限制采样'])]"
   ]
  },
  {
   "cell_type": "code",
   "execution_count": 6,
   "metadata": {},
   "outputs": [
    {
     "name": "stdout",
     "output_type": "stream",
     "text": [
      "pagerank\n"
     ]
    }
   ],
   "source": [
    "for name, bench in data_path.items():\n",
    "    print(name)\n",
    "    bench_func_display(bench).to_csv('pagerank_count.csv')"
   ]
  },
  {
   "cell_type": "code",
   "execution_count": null,
   "metadata": {},
   "outputs": [],
   "source": []
  },
  {
   "cell_type": "code",
   "execution_count": null,
   "metadata": {},
   "outputs": [],
   "source": []
  }
 ],
 "metadata": {
  "kernelspec": {
   "display_name": "Python 3",
   "language": "python",
   "name": "python3"
  },
  "language_info": {
   "codemirror_mode": {
    "name": "ipython",
    "version": 3
   },
   "file_extension": ".py",
   "mimetype": "text/x-python",
   "name": "python",
   "nbconvert_exporter": "python",
   "pygments_lexer": "ipython3",
   "version": "3.7.0"
  }
 },
 "nbformat": 4,
 "nbformat_minor": 2
}
