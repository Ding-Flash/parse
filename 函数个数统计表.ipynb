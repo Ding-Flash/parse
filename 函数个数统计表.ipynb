{
 "cells": [
  {
   "cell_type": "code",
   "execution_count": 1,
   "metadata": {},
   "outputs": [],
   "source": [
    "from IPython.core.interactiveshell import InteractiveShell\n",
    "InteractiveShell.ast_node_interactivity = \"all\"\n",
    "from htrace import Parse\n",
    "import seaborn as sns\n",
    "import numpy as np\n",
    "import pandas as pd\n",
    "import matplotlib.pyplot as plt\n",
    "%matplotlib inline\n",
    "\n",
    "%config InlineBackend.figure_formats = ['svg']\n",
    "sns.set_style(\"whitegrid\")"
   ]
  },
  {
   "cell_type": "code",
   "execution_count": 18,
   "metadata": {},
   "outputs": [],
   "source": [
    "data_path={\n",
    "    'dfsioe_r': 'ndata/dfsioe_r/',\n",
    "    'dfsioe_w': 'ndata/dfsioe_w/',\n",
    "    'kmeans': 'ndata/kmeans/',\n",
    "    'pagerank': 'ndata/pagerank/',\n",
    "    'terasort': 'ndata/terasort/',\n",
    "    'wordcount': 'ndata/wordcount/'\n",
    "}\n",
    "samplers = [\n",
    "    'a', \n",
    "            'p0.1',\n",
    "            'l', \n",
    "            't', \n",
    " \n",
    "#             'p0.01'\n",
    "           ]\n",
    "zh_samplers = ['全采样',\n",
    "                              '概率采样(0.1)',\n",
    "               '限制采样',\n",
    "               '令牌桶采样',\n",
    "\n",
    "#                '概率采样(0.01)'\n",
    "              ]"
   ]
  },
  {
   "cell_type": "markdown",
   "metadata": {},
   "source": [
    "## 不同函数的采样个数对比"
   ]
  },
  {
   "cell_type": "code",
   "execution_count": 19,
   "metadata": {},
   "outputs": [],
   "source": [
    "def clean_src_csv(path):\n",
    "    df = pd.read_csv(path+'/1.csv')\n",
    "    df.index = df['Unnamed: 0']\n",
    "    df.drop(['Unnamed: 0'],axis=1, inplace=True)\n",
    "    df = df.T\n",
    "    df.columns = ['count','mean','std','min','25%','50%','75%','max']\n",
    "    return df['count'].to_frame() "
   ]
  },
  {
   "cell_type": "code",
   "execution_count": 22,
   "metadata": {},
   "outputs": [],
   "source": [
    "def bench_func_display(bench):\n",
    "    res = []\n",
    "    for sampler in samplers:\n",
    "        res.append(clean_src_csv(bench+sampler))\n",
    "    c = pd.concat(res, axis=1, sort=True)\n",
    "    c.columns = zh_samplers\n",
    "    return c[(c['全采样']>100)&(c['概率采样(0.1)']>c['限制采样'])]"
   ]
  },
  {
   "cell_type": "code",
   "execution_count": 23,
   "metadata": {},
   "outputs": [
    {
     "name": "stdout",
     "output_type": "stream",
     "text": [
      "dfsioe_r\n"
     ]
    },
    {
     "data": {
      "text/html": [
       "<div>\n",
       "<style scoped>\n",
       "    .dataframe tbody tr th:only-of-type {\n",
       "        vertical-align: middle;\n",
       "    }\n",
       "\n",
       "    .dataframe tbody tr th {\n",
       "        vertical-align: top;\n",
       "    }\n",
       "\n",
       "    .dataframe thead th {\n",
       "        text-align: right;\n",
       "    }\n",
       "</style>\n",
       "<table border=\"1\" class=\"dataframe\">\n",
       "  <thead>\n",
       "    <tr style=\"text-align: right;\">\n",
       "      <th></th>\n",
       "      <th>全采样</th>\n",
       "      <th>概率采样(0.1)</th>\n",
       "      <th>限制采样</th>\n",
       "      <th>令牌桶采样</th>\n",
       "    </tr>\n",
       "  </thead>\n",
       "  <tbody>\n",
       "    <tr>\n",
       "      <th>BlockReaderRemote2#readNextPacket</th>\n",
       "      <td>5184.0</td>\n",
       "      <td>501.0</td>\n",
       "      <td>131.0</td>\n",
       "      <td>73.0</td>\n",
       "    </tr>\n",
       "    <tr>\n",
       "      <th>DFSInputStream#byteArrayRead</th>\n",
       "      <td>83056.0</td>\n",
       "      <td>8292.0</td>\n",
       "      <td>1928.0</td>\n",
       "      <td>1360.0</td>\n",
       "    </tr>\n",
       "    <tr>\n",
       "      <th>DFSInputStream#readWithStrategy</th>\n",
       "      <td>83056.0</td>\n",
       "      <td>8292.0</td>\n",
       "      <td>1928.0</td>\n",
       "      <td>1360.0</td>\n",
       "    </tr>\n",
       "  </tbody>\n",
       "</table>\n",
       "</div>"
      ],
      "text/plain": [
       "                                       全采样  概率采样(0.1)    限制采样   令牌桶采样\n",
       "BlockReaderRemote2#readNextPacket   5184.0      501.0   131.0    73.0\n",
       "DFSInputStream#byteArrayRead       83056.0     8292.0  1928.0  1360.0\n",
       "DFSInputStream#readWithStrategy    83056.0     8292.0  1928.0  1360.0"
      ]
     },
     "execution_count": 23,
     "metadata": {},
     "output_type": "execute_result"
    },
    {
     "name": "stdout",
     "output_type": "stream",
     "text": [
      "dfsioe_w\n"
     ]
    },
    {
     "data": {
      "text/html": [
       "<div>\n",
       "<style scoped>\n",
       "    .dataframe tbody tr th:only-of-type {\n",
       "        vertical-align: middle;\n",
       "    }\n",
       "\n",
       "    .dataframe tbody tr th {\n",
       "        vertical-align: top;\n",
       "    }\n",
       "\n",
       "    .dataframe thead th {\n",
       "        text-align: right;\n",
       "    }\n",
       "</style>\n",
       "<table border=\"1\" class=\"dataframe\">\n",
       "  <thead>\n",
       "    <tr style=\"text-align: right;\">\n",
       "      <th></th>\n",
       "      <th>全采样</th>\n",
       "      <th>概率采样(0.1)</th>\n",
       "      <th>限制采样</th>\n",
       "      <th>令牌桶采样</th>\n",
       "    </tr>\n",
       "  </thead>\n",
       "  <tbody>\n",
       "    <tr>\n",
       "      <th>DFSOutputStream#write</th>\n",
       "      <td>73278.0</td>\n",
       "      <td>7432.0</td>\n",
       "      <td>3665.0</td>\n",
       "      <td>3531.0</td>\n",
       "    </tr>\n",
       "    <tr>\n",
       "      <th>DFSOutputStream#writeChunk</th>\n",
       "      <td>659094.0</td>\n",
       "      <td>66832.0</td>\n",
       "      <td>32591.0</td>\n",
       "      <td>31371.0</td>\n",
       "    </tr>\n",
       "    <tr>\n",
       "      <th>dataStreamer</th>\n",
       "      <td>5346.0</td>\n",
       "      <td>546.0</td>\n",
       "      <td>375.0</td>\n",
       "      <td>344.0</td>\n",
       "    </tr>\n",
       "  </tbody>\n",
       "</table>\n",
       "</div>"
      ],
      "text/plain": [
       "                                 全采样  概率采样(0.1)     限制采样    令牌桶采样\n",
       "DFSOutputStream#write        73278.0     7432.0   3665.0   3531.0\n",
       "DFSOutputStream#writeChunk  659094.0    66832.0  32591.0  31371.0\n",
       "dataStreamer                  5346.0      546.0    375.0    344.0"
      ]
     },
     "execution_count": 23,
     "metadata": {},
     "output_type": "execute_result"
    },
    {
     "name": "stdout",
     "output_type": "stream",
     "text": [
      "kmeans\n"
     ]
    },
    {
     "data": {
      "text/html": [
       "<div>\n",
       "<style scoped>\n",
       "    .dataframe tbody tr th:only-of-type {\n",
       "        vertical-align: middle;\n",
       "    }\n",
       "\n",
       "    .dataframe tbody tr th {\n",
       "        vertical-align: top;\n",
       "    }\n",
       "\n",
       "    .dataframe thead th {\n",
       "        text-align: right;\n",
       "    }\n",
       "</style>\n",
       "<table border=\"1\" class=\"dataframe\">\n",
       "  <thead>\n",
       "    <tr style=\"text-align: right;\">\n",
       "      <th></th>\n",
       "      <th>全采样</th>\n",
       "      <th>概率采样(0.1)</th>\n",
       "      <th>限制采样</th>\n",
       "      <th>令牌桶采样</th>\n",
       "    </tr>\n",
       "  </thead>\n",
       "  <tbody>\n",
       "    <tr>\n",
       "      <th>DFSInputStream#byteArrayRead</th>\n",
       "      <td>1644105.0</td>\n",
       "      <td>164514.0</td>\n",
       "      <td>107165.0</td>\n",
       "      <td>22635.0</td>\n",
       "    </tr>\n",
       "    <tr>\n",
       "      <th>DFSInputStream#readWithStrategy</th>\n",
       "      <td>1644105.0</td>\n",
       "      <td>164514.0</td>\n",
       "      <td>107165.0</td>\n",
       "      <td>22635.0</td>\n",
       "    </tr>\n",
       "  </tbody>\n",
       "</table>\n",
       "</div>"
      ],
      "text/plain": [
       "                                       全采样  概率采样(0.1)      限制采样    令牌桶采样\n",
       "DFSInputStream#byteArrayRead     1644105.0   164514.0  107165.0  22635.0\n",
       "DFSInputStream#readWithStrategy  1644105.0   164514.0  107165.0  22635.0"
      ]
     },
     "execution_count": 23,
     "metadata": {},
     "output_type": "execute_result"
    },
    {
     "name": "stdout",
     "output_type": "stream",
     "text": [
      "pagerank\n"
     ]
    },
    {
     "data": {
      "text/html": [
       "<div>\n",
       "<style scoped>\n",
       "    .dataframe tbody tr th:only-of-type {\n",
       "        vertical-align: middle;\n",
       "    }\n",
       "\n",
       "    .dataframe tbody tr th {\n",
       "        vertical-align: top;\n",
       "    }\n",
       "\n",
       "    .dataframe thead th {\n",
       "        text-align: right;\n",
       "    }\n",
       "</style>\n",
       "<table border=\"1\" class=\"dataframe\">\n",
       "  <thead>\n",
       "    <tr style=\"text-align: right;\">\n",
       "      <th></th>\n",
       "      <th>全采样</th>\n",
       "      <th>概率采样(0.1)</th>\n",
       "      <th>限制采样</th>\n",
       "      <th>令牌桶采样</th>\n",
       "    </tr>\n",
       "  </thead>\n",
       "  <tbody>\n",
       "    <tr>\n",
       "      <th>BlockReaderRemote2#readNextPacket</th>\n",
       "      <td>3749.0</td>\n",
       "      <td>364.0</td>\n",
       "      <td>133.0</td>\n",
       "      <td>114.0</td>\n",
       "    </tr>\n",
       "    <tr>\n",
       "      <th>DFSInputStream#byteArrayRead</th>\n",
       "      <td>58243.0</td>\n",
       "      <td>5876.0</td>\n",
       "      <td>1713.0</td>\n",
       "      <td>2195.0</td>\n",
       "    </tr>\n",
       "    <tr>\n",
       "      <th>DFSInputStream#readWithStrategy</th>\n",
       "      <td>58243.0</td>\n",
       "      <td>5876.0</td>\n",
       "      <td>1713.0</td>\n",
       "      <td>2195.0</td>\n",
       "    </tr>\n",
       "    <tr>\n",
       "      <th>DFSOutputStream#write</th>\n",
       "      <td>37401.0</td>\n",
       "      <td>3814.0</td>\n",
       "      <td>1726.0</td>\n",
       "      <td>2638.0</td>\n",
       "    </tr>\n",
       "    <tr>\n",
       "      <th>DFSOutputStream#writeChunk</th>\n",
       "      <td>335906.0</td>\n",
       "      <td>34250.0</td>\n",
       "      <td>14841.0</td>\n",
       "      <td>23048.0</td>\n",
       "    </tr>\n",
       "  </tbody>\n",
       "</table>\n",
       "</div>"
      ],
      "text/plain": [
       "                                        全采样  概率采样(0.1)     限制采样    令牌桶采样\n",
       "BlockReaderRemote2#readNextPacket    3749.0      364.0    133.0    114.0\n",
       "DFSInputStream#byteArrayRead        58243.0     5876.0   1713.0   2195.0\n",
       "DFSInputStream#readWithStrategy     58243.0     5876.0   1713.0   2195.0\n",
       "DFSOutputStream#write               37401.0     3814.0   1726.0   2638.0\n",
       "DFSOutputStream#writeChunk         335906.0    34250.0  14841.0  23048.0"
      ]
     },
     "execution_count": 23,
     "metadata": {},
     "output_type": "execute_result"
    },
    {
     "name": "stdout",
     "output_type": "stream",
     "text": [
      "terasort\n"
     ]
    },
    {
     "data": {
      "text/html": [
       "<div>\n",
       "<style scoped>\n",
       "    .dataframe tbody tr th:only-of-type {\n",
       "        vertical-align: middle;\n",
       "    }\n",
       "\n",
       "    .dataframe tbody tr th {\n",
       "        vertical-align: top;\n",
       "    }\n",
       "\n",
       "    .dataframe thead th {\n",
       "        text-align: right;\n",
       "    }\n",
       "</style>\n",
       "<table border=\"1\" class=\"dataframe\">\n",
       "  <thead>\n",
       "    <tr style=\"text-align: right;\">\n",
       "      <th></th>\n",
       "      <th>全采样</th>\n",
       "      <th>概率采样(0.1)</th>\n",
       "      <th>限制采样</th>\n",
       "      <th>令牌桶采样</th>\n",
       "    </tr>\n",
       "  </thead>\n",
       "  <tbody>\n",
       "    <tr>\n",
       "      <th>BlockReaderRemote2#readNextPacket</th>\n",
       "      <td>643.0</td>\n",
       "      <td>61.0</td>\n",
       "      <td>16.0</td>\n",
       "      <td>7.0</td>\n",
       "    </tr>\n",
       "    <tr>\n",
       "      <th>DFSInputStream#byteArrayRead</th>\n",
       "      <td>420617.0</td>\n",
       "      <td>42279.0</td>\n",
       "      <td>7659.0</td>\n",
       "      <td>4014.0</td>\n",
       "    </tr>\n",
       "    <tr>\n",
       "      <th>DFSInputStream#readWithStrategy</th>\n",
       "      <td>420617.0</td>\n",
       "      <td>42279.0</td>\n",
       "      <td>7659.0</td>\n",
       "      <td>4014.0</td>\n",
       "    </tr>\n",
       "  </tbody>\n",
       "</table>\n",
       "</div>"
      ],
      "text/plain": [
       "                                        全采样  概率采样(0.1)    限制采样   令牌桶采样\n",
       "BlockReaderRemote2#readNextPacket     643.0       61.0    16.0     7.0\n",
       "DFSInputStream#byteArrayRead       420617.0    42279.0  7659.0  4014.0\n",
       "DFSInputStream#readWithStrategy    420617.0    42279.0  7659.0  4014.0"
      ]
     },
     "execution_count": 23,
     "metadata": {},
     "output_type": "execute_result"
    },
    {
     "name": "stdout",
     "output_type": "stream",
     "text": [
      "wordcount\n"
     ]
    },
    {
     "data": {
      "text/html": [
       "<div>\n",
       "<style scoped>\n",
       "    .dataframe tbody tr th:only-of-type {\n",
       "        vertical-align: middle;\n",
       "    }\n",
       "\n",
       "    .dataframe tbody tr th {\n",
       "        vertical-align: top;\n",
       "    }\n",
       "\n",
       "    .dataframe thead th {\n",
       "        text-align: right;\n",
       "    }\n",
       "</style>\n",
       "<table border=\"1\" class=\"dataframe\">\n",
       "  <thead>\n",
       "    <tr style=\"text-align: right;\">\n",
       "      <th></th>\n",
       "      <th>全采样</th>\n",
       "      <th>概率采样(0.1)</th>\n",
       "      <th>限制采样</th>\n",
       "      <th>令牌桶采样</th>\n",
       "    </tr>\n",
       "  </thead>\n",
       "  <tbody>\n",
       "    <tr>\n",
       "      <th>BlockReaderRemote2#readNextPacket</th>\n",
       "      <td>126.0</td>\n",
       "      <td>12.0</td>\n",
       "      <td>9.0</td>\n",
       "      <td>5.0</td>\n",
       "    </tr>\n",
       "    <tr>\n",
       "      <th>DFSInputStream#byteArrayRead</th>\n",
       "      <td>126933.0</td>\n",
       "      <td>12745.0</td>\n",
       "      <td>6039.0</td>\n",
       "      <td>5110.0</td>\n",
       "    </tr>\n",
       "    <tr>\n",
       "      <th>DFSInputStream#readWithStrategy</th>\n",
       "      <td>126933.0</td>\n",
       "      <td>12745.0</td>\n",
       "      <td>6039.0</td>\n",
       "      <td>5110.0</td>\n",
       "    </tr>\n",
       "  </tbody>\n",
       "</table>\n",
       "</div>"
      ],
      "text/plain": [
       "                                        全采样  概率采样(0.1)    限制采样   令牌桶采样\n",
       "BlockReaderRemote2#readNextPacket     126.0       12.0     9.0     5.0\n",
       "DFSInputStream#byteArrayRead       126933.0    12745.0  6039.0  5110.0\n",
       "DFSInputStream#readWithStrategy    126933.0    12745.0  6039.0  5110.0"
      ]
     },
     "execution_count": 23,
     "metadata": {},
     "output_type": "execute_result"
    }
   ],
   "source": [
    "for name, bench in data_path.items():\n",
    "    print(name)\n",
    "    bench_func_display(bench)"
   ]
  },
  {
   "cell_type": "code",
   "execution_count": null,
   "metadata": {},
   "outputs": [],
   "source": []
  },
  {
   "cell_type": "code",
   "execution_count": null,
   "metadata": {},
   "outputs": [],
   "source": []
  }
 ],
 "metadata": {
  "kernelspec": {
   "display_name": "Python 3",
   "language": "python",
   "name": "python3"
  },
  "language_info": {
   "codemirror_mode": {
    "name": "ipython",
    "version": 3
   },
   "file_extension": ".py",
   "mimetype": "text/x-python",
   "name": "python",
   "nbconvert_exporter": "python",
   "pygments_lexer": "ipython3",
   "version": "3.7.0"
  }
 },
 "nbformat": 4,
 "nbformat_minor": 2
}
