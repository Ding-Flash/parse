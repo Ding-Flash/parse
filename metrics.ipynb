{
 "cells": [
  {
   "cell_type": "code",
   "execution_count": 1,
   "metadata": {},
   "outputs": [],
   "source": [
    "import numpy as np\n",
    "import pandas as pd\n",
    "import math\n",
    "from util import hash_tree\n",
    "from sklearn.preprocessing import scale"
   ]
  },
  {
   "cell_type": "markdown",
   "metadata": {},
   "source": [
    "### 所有节点的信息"
   ]
  },
  {
   "cell_type": "code",
   "execution_count": 2,
   "metadata": {},
   "outputs": [],
   "source": [
    "from htrace import Parse\n",
    "prefix = \"/Users/yangs/Desktop/htrace/wordcount/\""
   ]
  },
  {
   "cell_type": "code",
   "execution_count": 3,
   "metadata": {},
   "outputs": [],
   "source": [
    "# import os\n",
    "# files = os.listdir(prefix)\n",
    "# res = {\n",
    "#     'always': [],\n",
    "#     'limit': [],\n",
    "#     'number': [],\n",
    "#     'probability': [],\n",
    "#     'tbucket': [],\n",
    "#     'never': []\n",
    "# }\n",
    "# def clean(name):\n",
    "#     info = name.split('_')\n",
    "#     try:\n",
    "#         _, sampler, _,_, time, th = info\n",
    "#     except Exception:\n",
    "#         return\n",
    "#     res[sampler].extend([time, th[:-4]])\n",
    "# for file in files:\n",
    "#     clean(file)\n",
    "# res = pd.DataFrame(res)"
   ]
  },
  {
   "cell_type": "markdown",
   "metadata": {},
   "source": [
    "### 计算信息熵"
   ]
  },
  {
   "cell_type": "code",
   "execution_count": 155,
   "metadata": {},
   "outputs": [],
   "source": [
    "def entropy(s1, s2, prefix):\n",
    "    src = pd.read_csv(prefix+s1+'.csv')\n",
    "    t = pd.read_csv(prefix+s2+'.csv')\n",
    "    proba = np.array([0]*len(src.columns[1:]))\n",
    "    count = 0\n",
    "    for idx, name in enumerate(src.columns[1:]):\n",
    "        if name in t.columns:\n",
    "            proba[idx] = t[name][0]\n",
    "            count += proba[idx]\n",
    "    proba = proba/count\n",
    "    res = 0.0\n",
    "    for p in proba:\n",
    "        if p:\n",
    "            res -= p * math.log2(p)\n",
    "    return res"
   ]
  },
  {
   "cell_type": "markdown",
   "metadata": {},
   "source": [
    "### 计算欧式距离\n",
    "函数特征值 `<均值(mean), 标准差(std)>`\n",
    "**缺失函数的话 影响很大** <br>\n",
    "要把只调用一次的函数剔除掉 因为没啥影响(?) 记得要获取所有节点的信息"
   ]
  },
  {
   "cell_type": "code",
   "execution_count": 306,
   "metadata": {},
   "outputs": [],
   "source": [
    "def eu_dist(a,s1, s2, prefix):\n",
    "    src_df = pd.read_csv(prefix+s1+'.csv').drop([0,4,6,3,7,5])\n",
    "    com_df = pd.read_csv(prefix+s2+'.csv').drop([0,4,6,3,7,5])\n",
    "    v1, v2 = [], []\n",
    "    for name in a.names:\n",
    "        if a.func_feature[name]['count'] < 10:\n",
    "#             print(a.func_feature[name])\n",
    "            continue\n",
    "        v1.append(src_df[name][1])\n",
    "        v1.append(src_df[name][2])\n",
    "        if name in com_df.columns:\n",
    "            v2.append(com_df[name][1])\n",
    "            v2.append(com_df[name][2])\n",
    "        else:\n",
    "            v2.append(0)\n",
    "            v2.append(0)\n",
    "        print(name)\n",
    "        print(v1[-2:])\n",
    "        print(v2[-2:])\n",
    "    v1, v2 = np.array(v1), np.array(v2)\n",
    "    v1, v2 = scale(v1), scale(v2)\n",
    "    res = np.linalg.norm(v1 - v2)\n",
    "    return res"
   ]
  },
  {
   "cell_type": "code",
   "execution_count": 307,
   "metadata": {},
   "outputs": [
    {
     "name": "stderr",
     "output_type": "stream",
     "text": [
      "21it [00:04,  4.97it/s]\n",
      "100%|██████████| 127663/127663 [00:00<00:00, 301530.26it/s]\n"
     ]
    },
    {
     "data": {
      "text/plain": [
       "14"
      ]
     },
     "execution_count": 307,
     "metadata": {},
     "output_type": "execute_result"
    }
   ],
   "source": [
    "a = Parse(prefix+'1.out', True)\n",
    "hash_tree(a)"
   ]
  },
  {
   "cell_type": "code",
   "execution_count": 314,
   "metadata": {},
   "outputs": [
    {
     "name": "stderr",
     "output_type": "stream",
     "text": [
      "21it [00:02, 10.08it/s]\n",
      "100%|██████████| 102306/102306 [00:00<00:00, 276519.00it/s]\n"
     ]
    },
    {
     "data": {
      "text/plain": [
       "13"
      ]
     },
     "execution_count": 314,
     "metadata": {},
     "output_type": "execute_result"
    }
   ],
   "source": [
    "p = Parse(prefix+'0.8.out', True)\n",
    "hash_tree(p)"
   ]
  },
  {
   "cell_type": "code",
   "execution_count": 315,
   "metadata": {},
   "outputs": [
    {
     "name": "stderr",
     "output_type": "stream",
     "text": [
      "21it [00:00, 349.81it/s]\n",
      "100%|██████████| 2168/2168 [00:00<00:00, 291824.49it/s]\n"
     ]
    },
    {
     "data": {
      "text/plain": [
       "14"
      ]
     },
     "execution_count": 315,
     "metadata": {},
     "output_type": "execute_result"
    }
   ],
   "source": [
    "n = Parse(prefix+'n.out', True)\n",
    "hash_tree(n)"
   ]
  },
  {
   "cell_type": "code",
   "execution_count": 316,
   "metadata": {},
   "outputs": [
    {
     "name": "stderr",
     "output_type": "stream",
     "text": [
      "21it [00:00, 338.71it/s]\n",
      "100%|██████████| 1918/1918 [00:00<00:00, 295000.92it/s]\n"
     ]
    },
    {
     "data": {
      "text/plain": [
       "14"
      ]
     },
     "execution_count": 316,
     "metadata": {},
     "output_type": "execute_result"
    }
   ],
   "source": [
    "l = Parse(prefix+'l.out', True)\n",
    "hash_tree(l)"
   ]
  },
  {
   "cell_type": "code",
   "execution_count": 317,
   "metadata": {},
   "outputs": [
    {
     "name": "stderr",
     "output_type": "stream",
     "text": [
      "21it [00:00, 409.00it/s]\n",
      "100%|██████████| 1416/1416 [00:00<00:00, 321225.29it/s]\n"
     ]
    },
    {
     "data": {
      "text/plain": [
       "13"
      ]
     },
     "execution_count": 317,
     "metadata": {},
     "output_type": "execute_result"
    }
   ],
   "source": [
    "t = Parse(prefix+'t.out', True)\n",
    "hash_tree(t)"
   ]
  },
  {
   "cell_type": "code",
   "execution_count": 329,
   "metadata": {},
   "outputs": [],
   "source": [
    "def allnode():\n",
    "    res = [a, p, l, n, t]\n",
    "    for r in res:\n",
    "        r.build_df(False)"
   ]
  },
  {
   "cell_type": "code",
   "execution_count": 330,
   "metadata": {},
   "outputs": [],
   "source": [
    "allnode()"
   ]
  },
  {
   "cell_type": "code",
   "execution_count": 336,
   "metadata": {},
   "outputs": [
    {
     "name": "stdout",
     "output_type": "stream",
     "text": [
      "DFSInputStream#byteArrayRead\n",
      "[0.018043222003929275, 0.5619841959094468]\n",
      "[0.016450759783047202, 0.1846902757342332]\n",
      "getFileInfo\n",
      "[1.270935960591133, 6.350371674695091]\n",
      "[1.5813953488372092, 7.416933406927066]\n",
      "DFSClient#rename\n",
      "[5.9875, 3.2471750137034885]\n",
      "[5.203703703703703, 3.594438206974715]\n",
      "listPaths\n",
      "[1.5476190476190477, 4.52204562469503]\n",
      "[1.6875, 5.738593173670986]\n",
      "DistributedFileSystem#create\n",
      "[7.512195121951219, 3.115461051108745]\n",
      "[6.16, 1.724335620850342]\n",
      "DFSOutputStream#close\n",
      "[29.97560975609756, 13.552652516902453]\n",
      "[35.42307692307692, 44.55124965872278]\n"
     ]
    },
    {
     "data": {
      "text/plain": [
       "2.0251014660162294"
      ]
     },
     "execution_count": 336,
     "metadata": {},
     "output_type": "execute_result"
    }
   ],
   "source": [
    "eu_dist(a, '1.out', '0.7.out', prefix)"
   ]
  },
  {
   "cell_type": "code",
   "execution_count": 332,
   "metadata": {},
   "outputs": [
    {
     "name": "stdout",
     "output_type": "stream",
     "text": [
      "DFSInputStream#byteArrayRead\n",
      "[0.018043222003929275, 0.5619841959094468]\n",
      "[0.1514950166112957, 2.6672086692360155]\n",
      "getFileInfo\n",
      "[1.270935960591133, 6.350371674695091]\n",
      "[1.29064039408867, 5.518578978713709]\n",
      "DFSClient#rename\n",
      "[5.9875, 3.2471750137034885]\n",
      "[6.3625, 1.3523888849744854]\n",
      "listPaths\n",
      "[1.5476190476190477, 4.52204562469503]\n",
      "[1.4761904761904765, 3.902707598191319]\n",
      "DistributedFileSystem#create\n",
      "[7.512195121951219, 3.115461051108745]\n",
      "[7.853658536585367, 4.672049740797693]\n",
      "DFSOutputStream#close\n",
      "[29.97560975609756, 13.552652516902453]\n",
      "[27.51219512195122, 11.249715443555699]\n"
     ]
    },
    {
     "data": {
      "text/plain": [
       "0.49825277957539443"
      ]
     },
     "execution_count": 332,
     "metadata": {},
     "output_type": "execute_result"
    }
   ],
   "source": [
    "eu_dist(a, '1.out', 'l.out', prefix)"
   ]
  },
  {
   "cell_type": "code",
   "execution_count": 333,
   "metadata": {},
   "outputs": [
    {
     "name": "stdout",
     "output_type": "stream",
     "text": [
      "DFSInputStream#byteArrayRead\n",
      "[0.018043222003929275, 0.5619841959094468]\n",
      "[0.10005685048322913, 0.3020502507701366]\n",
      "getFileInfo\n",
      "[1.270935960591133, 6.350371674695091]\n",
      "[1.3333333333333333, 6.445411804790548]\n",
      "DFSClient#rename\n",
      "[5.9875, 3.2471750137034885]\n",
      "[6.278481012658228, 4.5739976031205805]\n",
      "listPaths\n",
      "[1.5476190476190477, 4.52204562469503]\n",
      "[1.5853658536585369, 4.883521320502745]\n",
      "DistributedFileSystem#create\n",
      "[7.512195121951219, 3.115461051108745]\n",
      "[8.3, 5.084919886921549]\n",
      "DFSOutputStream#close\n",
      "[29.97560975609756, 13.552652516902453]\n",
      "[29.375, 9.582803775781294]\n"
     ]
    },
    {
     "data": {
      "text/plain": [
       "0.5837358439968576"
      ]
     },
     "execution_count": 333,
     "metadata": {},
     "output_type": "execute_result"
    }
   ],
   "source": [
    "eu_dist(a, '1.out', 'n.out', prefix)"
   ]
  },
  {
   "cell_type": "code",
   "execution_count": 334,
   "metadata": {},
   "outputs": [
    {
     "name": "stdout",
     "output_type": "stream",
     "text": [
      "DFSInputStream#byteArrayRead\n",
      "[0.018043222003929275, 0.5619841959094468]\n",
      "[0.21036889332003988, 3.138297999687058]\n",
      "getFileInfo\n",
      "[1.270935960591133, 6.350371674695091]\n",
      "[1.3645320197044335, 6.340590842374654]\n",
      "DFSClient#rename\n",
      "[5.9875, 3.2471750137034885]\n",
      "[4.3375, 2.24422606546475]\n",
      "listPaths\n",
      "[1.5476190476190477, 4.52204562469503]\n",
      "[1.738095238095238, 4.638437099111704]\n",
      "DistributedFileSystem#create\n",
      "[7.512195121951219, 3.115461051108745]\n",
      "[6.585365853658537, 3.63301259119823]\n",
      "DFSOutputStream#close\n",
      "[29.97560975609756, 13.552652516902453]\n",
      "[24.34146341463415, 12.090512305311053]\n"
     ]
    },
    {
     "data": {
      "text/plain": [
       "0.4417236294632078"
      ]
     },
     "execution_count": 334,
     "metadata": {},
     "output_type": "execute_result"
    }
   ],
   "source": [
    "eu_dist(a, '1.out', 't.out', prefix)"
   ]
  },
  {
   "cell_type": "code",
   "execution_count": 327,
   "metadata": {},
   "outputs": [
    {
     "data": {
      "text/html": [
       "<div>\n",
       "<style scoped>\n",
       "    .dataframe tbody tr th:only-of-type {\n",
       "        vertical-align: middle;\n",
       "    }\n",
       "\n",
       "    .dataframe tbody tr th {\n",
       "        vertical-align: top;\n",
       "    }\n",
       "\n",
       "    .dataframe thead th {\n",
       "        text-align: right;\n",
       "    }\n",
       "</style>\n",
       "<table border=\"1\" class=\"dataframe\">\n",
       "  <thead>\n",
       "    <tr style=\"text-align: right;\">\n",
       "      <th></th>\n",
       "      <th>always</th>\n",
       "      <th>p</th>\n",
       "      <th>n</th>\n",
       "      <th>l</th>\n",
       "      <th>t</th>\n",
       "    </tr>\n",
       "  </thead>\n",
       "  <tbody>\n",
       "    <tr>\n",
       "      <th>BlockReaderRemote2#readNextPacket</th>\n",
       "      <td>126</td>\n",
       "      <td>100.0</td>\n",
       "      <td>2.0</td>\n",
       "      <td>3</td>\n",
       "      <td>1</td>\n",
       "    </tr>\n",
       "    <tr>\n",
       "      <th>ClientNamenodeProtocol#addBlock</th>\n",
       "      <td>40</td>\n",
       "      <td>34.0</td>\n",
       "      <td>39.0</td>\n",
       "      <td>40</td>\n",
       "      <td>40</td>\n",
       "    </tr>\n",
       "    <tr>\n",
       "      <th>ClientNamenodeProtocol#complete</th>\n",
       "      <td>41</td>\n",
       "      <td>35.0</td>\n",
       "      <td>40.0</td>\n",
       "      <td>41</td>\n",
       "      <td>41</td>\n",
       "    </tr>\n",
       "    <tr>\n",
       "      <th>ClientNamenodeProtocol#create</th>\n",
       "      <td>41</td>\n",
       "      <td>32.0</td>\n",
       "      <td>40.0</td>\n",
       "      <td>41</td>\n",
       "      <td>41</td>\n",
       "    </tr>\n",
       "    <tr>\n",
       "      <th>ClientNamenodeProtocol#delete</th>\n",
       "      <td>1</td>\n",
       "      <td>NaN</td>\n",
       "      <td>1.0</td>\n",
       "      <td>1</td>\n",
       "      <td>1</td>\n",
       "    </tr>\n",
       "    <tr>\n",
       "      <th>ClientNamenodeProtocol#getBlockLocations</th>\n",
       "      <td>1</td>\n",
       "      <td>1.0</td>\n",
       "      <td>1.0</td>\n",
       "      <td>1</td>\n",
       "      <td>1</td>\n",
       "    </tr>\n",
       "    <tr>\n",
       "      <th>ClientNamenodeProtocol#getFileInfo</th>\n",
       "      <td>204</td>\n",
       "      <td>167.0</td>\n",
       "      <td>202.0</td>\n",
       "      <td>204</td>\n",
       "      <td>204</td>\n",
       "    </tr>\n",
       "    <tr>\n",
       "      <th>ClientNamenodeProtocol#getListing</th>\n",
       "      <td>42</td>\n",
       "      <td>36.0</td>\n",
       "      <td>41.0</td>\n",
       "      <td>42</td>\n",
       "      <td>42</td>\n",
       "    </tr>\n",
       "    <tr>\n",
       "      <th>ClientNamenodeProtocol#getServerDefaults</th>\n",
       "      <td>1</td>\n",
       "      <td>1.0</td>\n",
       "      <td>NaN</td>\n",
       "      <td>1</td>\n",
       "      <td>1</td>\n",
       "    </tr>\n",
       "    <tr>\n",
       "      <th>ClientNamenodeProtocol#mkdirs</th>\n",
       "      <td>1</td>\n",
       "      <td>1.0</td>\n",
       "      <td>1.0</td>\n",
       "      <td>1</td>\n",
       "      <td>1</td>\n",
       "    </tr>\n",
       "    <tr>\n",
       "      <th>ClientNamenodeProtocol#rename</th>\n",
       "      <td>80</td>\n",
       "      <td>65.0</td>\n",
       "      <td>79.0</td>\n",
       "      <td>80</td>\n",
       "      <td>80</td>\n",
       "    </tr>\n",
       "    <tr>\n",
       "      <th>DFSClient#delete</th>\n",
       "      <td>1</td>\n",
       "      <td>NaN</td>\n",
       "      <td>1.0</td>\n",
       "      <td>1</td>\n",
       "      <td>1</td>\n",
       "    </tr>\n",
       "    <tr>\n",
       "      <th>DFSClient#rename</th>\n",
       "      <td>80</td>\n",
       "      <td>65.0</td>\n",
       "      <td>79.0</td>\n",
       "      <td>80</td>\n",
       "      <td>80</td>\n",
       "    </tr>\n",
       "    <tr>\n",
       "      <th>DFSInputStream#byteArrayRead</th>\n",
       "      <td>127250</td>\n",
       "      <td>101959.0</td>\n",
       "      <td>1759.0</td>\n",
       "      <td>1505</td>\n",
       "      <td>1003</td>\n",
       "    </tr>\n",
       "    <tr>\n",
       "      <th>DFSInputStream#fetchBlockAt</th>\n",
       "      <td>1</td>\n",
       "      <td>1.0</td>\n",
       "      <td>NaN</td>\n",
       "      <td>1</td>\n",
       "      <td>1</td>\n",
       "    </tr>\n",
       "    <tr>\n",
       "      <th>DFSInputStream#openInfo</th>\n",
       "      <td>1</td>\n",
       "      <td>1.0</td>\n",
       "      <td>1.0</td>\n",
       "      <td>1</td>\n",
       "      <td>1</td>\n",
       "    </tr>\n",
       "    <tr>\n",
       "      <th>DFSInputStream#readWithStrategy</th>\n",
       "      <td>127250</td>\n",
       "      <td>101959.0</td>\n",
       "      <td>1759.0</td>\n",
       "      <td>1505</td>\n",
       "      <td>1003</td>\n",
       "    </tr>\n",
       "    <tr>\n",
       "      <th>DFSOutputStream#close</th>\n",
       "      <td>41</td>\n",
       "      <td>35.0</td>\n",
       "      <td>40.0</td>\n",
       "      <td>41</td>\n",
       "      <td>41</td>\n",
       "    </tr>\n",
       "    <tr>\n",
       "      <th>DFSOutputStream#flushInternal</th>\n",
       "      <td>41</td>\n",
       "      <td>35.0</td>\n",
       "      <td>40.0</td>\n",
       "      <td>41</td>\n",
       "      <td>41</td>\n",
       "    </tr>\n",
       "    <tr>\n",
       "      <th>DFSOutputStream#write</th>\n",
       "      <td>40</td>\n",
       "      <td>34.0</td>\n",
       "      <td>39.0</td>\n",
       "      <td>40</td>\n",
       "      <td>40</td>\n",
       "    </tr>\n",
       "    <tr>\n",
       "      <th>DFSOutputStream#writeChunk</th>\n",
       "      <td>77</td>\n",
       "      <td>66.0</td>\n",
       "      <td>75.0</td>\n",
       "      <td>77</td>\n",
       "      <td>77</td>\n",
       "    </tr>\n",
       "    <tr>\n",
       "      <th>DataStreamer#writeTo</th>\n",
       "      <td>80</td>\n",
       "      <td>76.0</td>\n",
       "      <td>80.0</td>\n",
       "      <td>80</td>\n",
       "      <td>80</td>\n",
       "    </tr>\n",
       "    <tr>\n",
       "      <th>DistributedFileSystem#create</th>\n",
       "      <td>41</td>\n",
       "      <td>32.0</td>\n",
       "      <td>40.0</td>\n",
       "      <td>41</td>\n",
       "      <td>41</td>\n",
       "    </tr>\n",
       "    <tr>\n",
       "      <th>DistributedFileSystem#delete</th>\n",
       "      <td>1</td>\n",
       "      <td>NaN</td>\n",
       "      <td>1.0</td>\n",
       "      <td>1</td>\n",
       "      <td>1</td>\n",
       "    </tr>\n",
       "    <tr>\n",
       "      <th>DistributedFileSystem#mkdirs</th>\n",
       "      <td>1</td>\n",
       "      <td>1.0</td>\n",
       "      <td>1.0</td>\n",
       "      <td>1</td>\n",
       "      <td>1</td>\n",
       "    </tr>\n",
       "    <tr>\n",
       "      <th>DistributedFileSystem#open</th>\n",
       "      <td>1</td>\n",
       "      <td>1.0</td>\n",
       "      <td>1.0</td>\n",
       "      <td>1</td>\n",
       "      <td>1</td>\n",
       "    </tr>\n",
       "    <tr>\n",
       "      <th>FileSystem#createFileSystem</th>\n",
       "      <td>2</td>\n",
       "      <td>2.0</td>\n",
       "      <td>2.0</td>\n",
       "      <td>2</td>\n",
       "      <td>2</td>\n",
       "    </tr>\n",
       "    <tr>\n",
       "      <th>Globber#glob</th>\n",
       "      <td>1</td>\n",
       "      <td>NaN</td>\n",
       "      <td>1.0</td>\n",
       "      <td>1</td>\n",
       "      <td>1</td>\n",
       "    </tr>\n",
       "    <tr>\n",
       "      <th>completeFile</th>\n",
       "      <td>41</td>\n",
       "      <td>35.0</td>\n",
       "      <td>40.0</td>\n",
       "      <td>41</td>\n",
       "      <td>41</td>\n",
       "    </tr>\n",
       "    <tr>\n",
       "      <th>dataStreamer</th>\n",
       "      <td>80</td>\n",
       "      <td>68.0</td>\n",
       "      <td>78.0</td>\n",
       "      <td>80</td>\n",
       "      <td>80</td>\n",
       "    </tr>\n",
       "    <tr>\n",
       "      <th>delete</th>\n",
       "      <td>1</td>\n",
       "      <td>NaN</td>\n",
       "      <td>1.0</td>\n",
       "      <td>1</td>\n",
       "      <td>1</td>\n",
       "    </tr>\n",
       "    <tr>\n",
       "      <th>getBlockLocations</th>\n",
       "      <td>1</td>\n",
       "      <td>1.0</td>\n",
       "      <td>1.0</td>\n",
       "      <td>1</td>\n",
       "      <td>1</td>\n",
       "    </tr>\n",
       "    <tr>\n",
       "      <th>getFileInfo</th>\n",
       "      <td>204</td>\n",
       "      <td>167.0</td>\n",
       "      <td>202.0</td>\n",
       "      <td>204</td>\n",
       "      <td>204</td>\n",
       "    </tr>\n",
       "    <tr>\n",
       "      <th>listPaths</th>\n",
       "      <td>42</td>\n",
       "      <td>36.0</td>\n",
       "      <td>41.0</td>\n",
       "      <td>42</td>\n",
       "      <td>42</td>\n",
       "    </tr>\n",
       "    <tr>\n",
       "      <th>mkdir</th>\n",
       "      <td>1</td>\n",
       "      <td>1.0</td>\n",
       "      <td>1.0</td>\n",
       "      <td>1</td>\n",
       "      <td>1</td>\n",
       "    </tr>\n",
       "    <tr>\n",
       "      <th>newDFSInputStream</th>\n",
       "      <td>1</td>\n",
       "      <td>1.0</td>\n",
       "      <td>1.0</td>\n",
       "      <td>1</td>\n",
       "      <td>1</td>\n",
       "    </tr>\n",
       "    <tr>\n",
       "      <th>newStreamForCreate</th>\n",
       "      <td>41</td>\n",
       "      <td>32.0</td>\n",
       "      <td>40.0</td>\n",
       "      <td>41</td>\n",
       "      <td>41</td>\n",
       "    </tr>\n",
       "    <tr>\n",
       "      <th>waitForAckedSeqno</th>\n",
       "      <td>41</td>\n",
       "      <td>35.0</td>\n",
       "      <td>40.0</td>\n",
       "      <td>41</td>\n",
       "      <td>41</td>\n",
       "    </tr>\n",
       "  </tbody>\n",
       "</table>\n",
       "</div>"
      ],
      "text/plain": [
       "                                          always         p       n     l     t\n",
       "BlockReaderRemote2#readNextPacket            126     100.0     2.0     3     1\n",
       "ClientNamenodeProtocol#addBlock               40      34.0    39.0    40    40\n",
       "ClientNamenodeProtocol#complete               41      35.0    40.0    41    41\n",
       "ClientNamenodeProtocol#create                 41      32.0    40.0    41    41\n",
       "ClientNamenodeProtocol#delete                  1       NaN     1.0     1     1\n",
       "ClientNamenodeProtocol#getBlockLocations       1       1.0     1.0     1     1\n",
       "ClientNamenodeProtocol#getFileInfo           204     167.0   202.0   204   204\n",
       "ClientNamenodeProtocol#getListing             42      36.0    41.0    42    42\n",
       "ClientNamenodeProtocol#getServerDefaults       1       1.0     NaN     1     1\n",
       "ClientNamenodeProtocol#mkdirs                  1       1.0     1.0     1     1\n",
       "ClientNamenodeProtocol#rename                 80      65.0    79.0    80    80\n",
       "DFSClient#delete                               1       NaN     1.0     1     1\n",
       "DFSClient#rename                              80      65.0    79.0    80    80\n",
       "DFSInputStream#byteArrayRead              127250  101959.0  1759.0  1505  1003\n",
       "DFSInputStream#fetchBlockAt                    1       1.0     NaN     1     1\n",
       "DFSInputStream#openInfo                        1       1.0     1.0     1     1\n",
       "DFSInputStream#readWithStrategy           127250  101959.0  1759.0  1505  1003\n",
       "DFSOutputStream#close                         41      35.0    40.0    41    41\n",
       "DFSOutputStream#flushInternal                 41      35.0    40.0    41    41\n",
       "DFSOutputStream#write                         40      34.0    39.0    40    40\n",
       "DFSOutputStream#writeChunk                    77      66.0    75.0    77    77\n",
       "DataStreamer#writeTo                          80      76.0    80.0    80    80\n",
       "DistributedFileSystem#create                  41      32.0    40.0    41    41\n",
       "DistributedFileSystem#delete                   1       NaN     1.0     1     1\n",
       "DistributedFileSystem#mkdirs                   1       1.0     1.0     1     1\n",
       "DistributedFileSystem#open                     1       1.0     1.0     1     1\n",
       "FileSystem#createFileSystem                    2       2.0     2.0     2     2\n",
       "Globber#glob                                   1       NaN     1.0     1     1\n",
       "completeFile                                  41      35.0    40.0    41    41\n",
       "dataStreamer                                  80      68.0    78.0    80    80\n",
       "delete                                         1       NaN     1.0     1     1\n",
       "getBlockLocations                              1       1.0     1.0     1     1\n",
       "getFileInfo                                  204     167.0   202.0   204   204\n",
       "listPaths                                     42      36.0    41.0    42    42\n",
       "mkdir                                          1       1.0     1.0     1     1\n",
       "newDFSInputStream                              1       1.0     1.0     1     1\n",
       "newStreamForCreate                            41      32.0    40.0    41    41\n",
       "waitForAckedSeqno                             41      35.0    40.0    41    41"
      ]
     },
     "execution_count": 327,
     "metadata": {},
     "output_type": "execute_result"
    }
   ],
   "source": [
    "pt = p.df['name'].value_counts().to_frame()\n",
    "at = a.df['name'].value_counts().to_frame()\n",
    "nt = n.df['name'].value_counts().to_frame()\n",
    "lt = l.df['name'].value_counts().to_frame()\n",
    "tt = t.df['name'].value_counts().to_frame()\n",
    "c = pd.concat([at,pt,nt,lt,tt], axis=1, sort=True)\n",
    "c.columns = ['always', 'p', 'n', 'l', 't']\n",
    "c"
   ]
  },
  {
   "cell_type": "code",
   "execution_count": 328,
   "metadata": {},
   "outputs": [
    {
     "data": {
      "text/plain": [
       "0.03974165943633943"
      ]
     },
     "execution_count": 328,
     "metadata": {},
     "output_type": "execute_result"
    }
   ],
   "source": [
    "entropy('1.out', '0.7.out', prefix)"
   ]
  },
  {
   "cell_type": "code",
   "execution_count": 175,
   "metadata": {},
   "outputs": [
    {
     "data": {
      "text/plain": [
       "1.0733655629884318"
      ]
     },
     "execution_count": 175,
     "metadata": {},
     "output_type": "execute_result"
    }
   ],
   "source": [
    "entropy('1.out', '0.1.out', prefix)"
   ]
  },
  {
   "cell_type": "code",
   "execution_count": 176,
   "metadata": {},
   "outputs": [
    {
     "data": {
      "text/plain": [
       "2.6605886735693787"
      ]
     },
     "execution_count": 176,
     "metadata": {},
     "output_type": "execute_result"
    }
   ],
   "source": [
    "entropy('1.out', 'n.out', prefix)"
   ]
  },
  {
   "cell_type": "code",
   "execution_count": 177,
   "metadata": {},
   "outputs": [
    {
     "data": {
      "text/plain": [
       "2.823119803318637"
      ]
     },
     "execution_count": 177,
     "metadata": {},
     "output_type": "execute_result"
    }
   ],
   "source": [
    "entropy('1.out', 'l.out', prefix)"
   ]
  },
  {
   "cell_type": "code",
   "execution_count": 178,
   "metadata": {},
   "outputs": [
    {
     "data": {
      "text/plain": [
       "3.18372315212511"
      ]
     },
     "execution_count": 178,
     "metadata": {},
     "output_type": "execute_result"
    }
   ],
   "source": [
    "entropy('1.out', 't.out', prefix)"
   ]
  },
  {
   "cell_type": "code",
   "execution_count": null,
   "metadata": {},
   "outputs": [],
   "source": []
  }
 ],
 "metadata": {
  "kernelspec": {
   "display_name": "Python 3",
   "language": "python",
   "name": "python3"
  },
  "language_info": {
   "codemirror_mode": {
    "name": "ipython",
    "version": 3
   },
   "file_extension": ".py",
   "mimetype": "text/x-python",
   "name": "python",
   "nbconvert_exporter": "python",
   "pygments_lexer": "ipython3",
   "version": "3.7.0"
  }
 },
 "nbformat": 4,
 "nbformat_minor": 2
}
